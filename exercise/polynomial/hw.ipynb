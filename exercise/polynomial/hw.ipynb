{
 "cells": [
  {
   "cell_type": "markdown",
   "metadata": {},
   "source": [
    "# 习题\n",
    "\n",
    "- Q-1\n"
   ]
  },
  {
   "cell_type": "code",
   "execution_count": 1,
   "metadata": {},
   "outputs": [
    {
     "data": {
      "text/latex": [
       "$\\displaystyle \\operatorname{Poly}{\\left( \\frac{1}{3} x -  \\frac{7}{9}, x, domain=\\mathbb{Q} \\right)}$"
      ],
      "text/plain": [
       "Poly(1/3*x - 7/9, x, domain='QQ')"
      ]
     },
     "execution_count": 1,
     "metadata": {},
     "output_type": "execute_result"
    }
   ],
   "source": [
    "from sympy import *\n",
    "\n",
    "x = symbols('x')\n",
    "f_x = x**3 - 3 * x**2 - x - 1\n",
    "g_x = 3 * x**2 - 2 * x + 1\n",
    "q_x, r_x = div(f_x, g_x)\n",
    "q_x.as_poly()"
   ]
  },
  {
   "cell_type": "code",
   "execution_count": 2,
   "metadata": {},
   "outputs": [
    {
     "data": {
      "text/latex": [
       "$\\displaystyle \\operatorname{Poly}{\\left( - \\frac{26}{9} x -  \\frac{2}{9}, x, domain=\\mathbb{Q} \\right)}$"
      ],
      "text/plain": [
       "Poly(-26/9*x - 2/9, x, domain='QQ')"
      ]
     },
     "execution_count": 2,
     "metadata": {},
     "output_type": "execute_result"
    }
   ],
   "source": [
    "r_x.as_poly()"
   ]
  },
  {
   "cell_type": "markdown",
   "metadata": {},
   "source": [
    "- Q-2\n"
   ]
  },
  {
   "cell_type": "code",
   "execution_count": 31,
   "metadata": {},
   "outputs": [
    {
     "data": {
      "image/png": "[encoded data removed]",
      "text/latex": [
       "$\\displaystyle \\operatorname{Poly}{\\left( \\left(m^{2} + p + 1\\right) x -  m + q, x, domain=\\mathbb{Z}\\left[p, q, m\\right] \\right)}$"
      ],
      "text/plain": [
       "Poly((m**2 + p + 1)*x - m + q, x, domain='ZZ[p,q,m]')"
      ]
     },
     "execution_count": 31,
     "metadata": {},
     "output_type": "execute_result"
    }
   ],
   "source": [
    "from sympy import *\n",
    "\n",
    "x, m, p, q = symbols('x, m, p, q')\n",
    "f_x = x**3 + p * x + q\n",
    "g_x = x**2 + m * x - 1\n",
    "q_x, r_x = div(f_x, g_x)\n",
    "r_x.as_poly(x)"
   ]
  },
  {
   "cell_type": "markdown",
   "metadata": {},
   "source": [
    "> 说明=>r_x = 0, 由此得出各项系数为 0\n"
   ]
  },
  {
   "cell_type": "markdown",
   "metadata": {},
   "source": [
    "- Q-3\n"
   ]
  },
  {
   "cell_type": "code",
   "execution_count": 68,
   "metadata": {},
   "outputs": [
    {
     "data": {
      "image/png": "[encoded data removed]",
      "text/latex": [
       "$\\displaystyle x^{2} - 2 i x - 5 - 2 i$"
      ],
      "text/plain": [
       " 2                  \n",
       "x  - 2⋅ⅈ⋅x - 5 - 2⋅ⅈ"
      ]
     },
     "execution_count": 68,
     "metadata": {},
     "output_type": "execute_result"
    }
   ],
   "source": [
    "from sympy import *\n",
    "\n",
    "x = symbols('x')\n",
    "f_x = x**3 - x**2 - x\n",
    "g_x = x - 1 + 2 * I\n",
    "q_x, r_x = div(f_x, g_x, domain='ZZ')\n",
    "q_x"
   ]
  },
  {
   "cell_type": "code",
   "execution_count": 69,
   "metadata": {},
   "outputs": [
    {
     "data": {
      "image/png": "[encoded data removed]",
      "text/latex": [
       "$\\displaystyle -9 + 8 i$"
      ],
      "text/plain": [
       "-9 + 8⋅ⅈ"
      ]
     },
     "execution_count": 69,
     "metadata": {},
     "output_type": "execute_result"
    }
   ],
   "source": [
    "r_x"
   ]
  },
  {
   "cell_type": "markdown",
   "metadata": {},
   "source": [
    "- Q-4\n",
    "- Q-4-3\n"
   ]
  },
  {
   "cell_type": "code",
   "execution_count": 37,
   "metadata": {},
   "outputs": [
    {
     "data": {
      "image/png": "[encoded data removed]",
      "text/latex": [
       "$\\displaystyle 5 x + \\left(x - 1\\right)^{5} + 5 \\left(x - 1\\right)^{4} + 10 \\left(x - 1\\right)^{3} + 10 \\left(x - 1\\right)^{2} - 4$"
      ],
      "text/plain": [
       "             5            4             3             2    \n",
       "5⋅x + (x - 1)  + 5⋅(x - 1)  + 10⋅(x - 1)  + 10⋅(x - 1)  - 4"
      ]
     },
     "execution_count": 37,
     "metadata": {},
     "output_type": "execute_result"
    }
   ],
   "source": [
    "from sympy import *\n",
    "\n",
    "x = symbols('x')\n",
    "f_x = x**5\n",
    "x0 = 1\n",
    "series(f_x, x=x, x0=x0)"
   ]
  },
  {
   "cell_type": "markdown",
   "metadata": {},
   "source": [
    "- Q-4-3\n"
   ]
  },
  {
   "cell_type": "code",
   "execution_count": 39,
   "metadata": {},
   "outputs": [
    {
     "data": {
      "image/png": "[encoded data removed]",
      "text/latex": [
       "$\\displaystyle - 5 x + \\left(x + i\\right)^{4} - 2 i \\left(x + i\\right)^{3} + \\left(-1 - i\\right) \\left(x + i\\right)^{2} + 7$"
      ],
      "text/plain": [
       "              4              3                   2    \n",
       "-5⋅x + (x + ⅈ)  - 2⋅ⅈ⋅(x + ⅈ)  + (-1 - ⅈ)⋅(x + ⅈ)  + 7"
      ]
     },
     "execution_count": 39,
     "metadata": {},
     "output_type": "execute_result"
    }
   ],
   "source": [
    "from sympy import *\n",
    "\n",
    "x = symbols('x')\n",
    "f_x = x**4 + 2 * I * x**3 - (1 + I) * x**2 - 3 * x + 7 + I\n",
    "series(f_x, x=x, x0=-I)"
   ]
  },
  {
   "cell_type": "markdown",
   "metadata": {},
   "source": [
    "- Q-5\n"
   ]
  },
  {
   "cell_type": "code",
   "execution_count": 64,
   "metadata": {},
   "outputs": [
    {
     "data": {
      "text/latex": [
       "$\\displaystyle \\operatorname{Poly}{\\left( x^{2} -  2 \\sqrt{2} x - 1, x, domain=\\mathtt{\\text{EX}} \\right)}$"
      ],
      "text/plain": [
       "Poly(x**2 - 2*sqrt(2)*x - 1, x, domain='EX')"
      ]
     },
     "execution_count": 64,
     "metadata": {},
     "output_type": "execute_result"
    }
   ],
   "source": [
    "from sympy import *\n",
    "\n",
    "x = symbols('x')\n",
    "f_x = x**4 - 10 * x**2 + 1\n",
    "g_x = x**4 - 4 * sqrt(2) * x**3 + 6 * x**2 + 4 * sqrt(2) * x + 1\n",
    "gcd(f_x.as_poly(x), g_x.as_poly(x))\n"
   ]
  },
  {
   "cell_type": "markdown",
   "metadata": {},
   "source": [
    "- Q-6\n"
   ]
  },
  {
   "cell_type": "code",
   "execution_count": 65,
   "metadata": {},
   "outputs": [
    {
     "data": {
      "image/png": "[encoded data removed]",
      "text/latex": [
       "$\\displaystyle \\left( - x - 1, \\  x^{3} + x^{2} - 3 x - 2, \\  1\\right)$"
      ],
      "text/plain": [
       "⎛         3    2             ⎞\n",
       "⎝-x - 1, x  + x  - 3⋅x - 2, 1⎠"
      ]
     },
     "execution_count": 65,
     "metadata": {},
     "output_type": "execute_result"
    }
   ],
   "source": [
    "from sympy import *\n",
    "\n",
    "x = symbols('x')\n",
    "f_x = x**4 - x**3 - 4 * x**2 + 4 * x + 1\n",
    "g_x = x**2 - x - 1\n",
    "gcdex(f_x, g_x)"
   ]
  },
  {
   "attachments": {},
   "cell_type": "markdown",
   "metadata": {},
   "source": [
    "- Q-8\n",
    "\n",
    "证明: 如果 $d(x) | f(x), d(x) | g(x)$, 且$d(x)$为$f(x), g(x)$的线性组合, 那么$d(x)$为$f(x), g(x)$的最大公因式\n",
    "\n",
    "解:\n",
    "\n",
    "$$d_{max} | u \\cdot f(x) + v \\cdot g(x) = d(x)$$\n",
    "\n",
    "又因为: $d(x)$是公因子\n",
    "\n",
    "由最大公因子的定义: $d_{max} = d(x)$"
   ]
  },
  {
   "attachments": {},
   "cell_type": "markdown",
   "metadata": {},
   "source": [
    "- Q-9\n",
    "\n",
    "证明:$(f(x)h(x), g(x)h(x)) = (f(x), g(x))h(x)$($h(x)$的首项系数为1)\n",
    "\n",
    "解:\n",
    "\n",
    "$$(f,g)h = (u \\cdot f + v \\cdot g)h$$\n",
    "\n",
    "$(f,g)h$为$f(x)h(x), g(x)h(x)$的线性组合, 且首项系数为1\n",
    "\n",
    "$$(f, g)h | f \\cdot h, (f, g)h | g \\cdot h$$\n",
    "\n",
    "由Q-8可得最大公因子\n",
    "\n",
    "考虑首项系数为1, 得证"
   ]
  },
  {
   "cell_type": "markdown",
   "metadata": {},
   "source": []
  },
  {
   "attachments": {},
   "cell_type": "markdown",
   "metadata": {},
   "source": [
    "## 感悟\n",
    "\n",
    "8, 9, 10 环环相扣, 就像是在不断地进行函数调用一样"
   ]
  },
  {
   "cell_type": "code",
   "execution_count": null,
   "metadata": {},
   "outputs": [],
   "source": []
  }
 ],
 "metadata": {
  "kernelspec": {
   "display_name": "Python 3.9.15 ('math-Linear-Algebra')",
   "language": "python",
   "name": "python3"
  },
  "language_info": {
   "codemirror_mode": {
    "name": "ipython",
    "version": 3
   },
   "file_extension": ".py",
   "mimetype": "text/x-python",
   "name": "python",
   "nbconvert_exporter": "python",
   "pygments_lexer": "ipython3",
   "version": "3.9.15 (main, Nov 24 2022, 14:31:59) \n[GCC 11.2.0]"
  },
  "orig_nbformat": 4,
  "vscode": {
   "interpreter": {
    "hash": "a93d420555b36c80a99a33febb584e8a0fce40b33a882a32043b7411cc09373e"
   }
  }
 },
 "nbformat": 4,
 "nbformat_minor": 2
}
