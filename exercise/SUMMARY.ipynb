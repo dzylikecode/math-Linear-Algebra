{
 "cells": [
  {
   "attachments": {},
   "cell_type": "markdown",
   "metadata": {},
   "source": [
    "- [多项式](./polynomial.ipynb)\n",
    "- [二次型](./quadratic_form.ipynb)"
   ]
  }
 ],
 "metadata": {
  "kernelspec": {
   "display_name": "math-Linear-Algebra",
   "language": "python",
   "name": "python3"
  },
  "language_info": {
   "name": "python",
   "version": "3.9.15"
  },
  "orig_nbformat": 4,
  "vscode": {
   "interpreter": {
    "hash": "a93d420555b36c80a99a33febb584e8a0fce40b33a882a32043b7411cc09373e"
   }
  }
 },
 "nbformat": 4,
 "nbformat_minor": 2
}
