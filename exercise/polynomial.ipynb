{
 "cells": [
  {
   "cell_type": "markdown",
   "metadata": {},
   "source": [
    "# 习题"
   ]
  },
  {
   "cell_type": "code",
   "execution_count": 14,
   "metadata": {},
   "outputs": [],
   "source": [
    "from sympy import *\n",
    "from utils.math import mprint, minform"
   ]
  },
  {
   "cell_type": "code",
   "execution_count": 15,
   "metadata": {},
   "outputs": [
    {
     "data": {
      "text/latex": [
       "$\\displaystyle **********Q1**********$"
      ],
      "text/plain": [
       "<IPython.core.display.Math object>"
      ]
     },
     "metadata": {},
     "output_type": "display_data"
    },
    {
     "data": {
      "text/latex": [
       "$\\displaystyle \\frac {x^{3} - 3 x^{2} - x - 1} {3 x^{2} - 2 x + 1}:$"
      ],
      "text/plain": [
       "<IPython.core.display.Math object>"
      ]
     },
     "metadata": {},
     "output_type": "display_data"
    },
    {
     "data": {
      "text/latex": [
       "$\\displaystyle quotient: \\frac{x}{3} - \\frac{7}{9}$"
      ],
      "text/plain": [
       "<IPython.core.display.Math object>"
      ]
     },
     "metadata": {},
     "output_type": "display_data"
    },
    {
     "data": {
      "text/latex": [
       "$\\displaystyle remainder: - \\frac{26 x}{9} - \\frac{2}{9}$"
      ],
      "text/plain": [
       "<IPython.core.display.Math object>"
      ]
     },
     "metadata": {},
     "output_type": "display_data"
    }
   ],
   "source": [
    "def Q1():\n",
    "    minform(\"Q1\")\n",
    "    x = symbols('x')\n",
    "    f_x = x**3 - 3 * x**2 - x - 1\n",
    "    g_x = 3 * x**2 - 2 * x + 1\n",
    "    q_x, r_x = div(f_x, g_x)\n",
    "    mprint(r\"\\frac {%s} {%s}:\" % (latex(f_x), latex(g_x)))\n",
    "    mprint(\"quotient: %s\" % latex(q_x))\n",
    "    mprint(\"remainder: %s\" % latex(r_x))\n",
    "Q1()"
   ]
  },
  {
   "cell_type": "code",
   "execution_count": 16,
   "metadata": {},
   "outputs": [
    {
     "data": {
      "text/latex": [
       "$\\displaystyle **********Q2**********$"
      ],
      "text/plain": [
       "<IPython.core.display.Math object>"
      ]
     },
     "metadata": {},
     "output_type": "display_data"
    },
    {
     "data": {
      "text/latex": [
       "$\\displaystyle \\frac {\\operatorname{Poly}{\\left( x^{3} + p x + q, x, domain=\\mathbb{Z}\\left[p, q\\right] \\right)}} {\\operatorname{Poly}{\\left( x^{2} + m x - 1, x, domain=\\mathbb{Z}\\left[m\\right] \\right)}}:$"
      ],
      "text/plain": [
       "<IPython.core.display.Math object>"
      ]
     },
     "metadata": {},
     "output_type": "display_data"
    },
    {
     "data": {
      "text/latex": [
       "$\\displaystyle quotient: \\operatorname{Poly}{\\left( x -  m, x, domain=\\mathbb{Z}\\left[m\\right] \\right)}$"
      ],
      "text/plain": [
       "<IPython.core.display.Math object>"
      ]
     },
     "metadata": {},
     "output_type": "display_data"
    },
    {
     "data": {
      "text/latex": [
       "$\\displaystyle remainder: \\operatorname{Poly}{\\left( \\left(m^{2} + p + 1\\right) x -  m + q, x, domain=\\mathbb{Z}\\left[p, q, m\\right] \\right)}$"
      ],
      "text/plain": [
       "<IPython.core.display.Math object>"
      ]
     },
     "metadata": {},
     "output_type": "display_data"
    },
    {
     "data": {
      "text/latex": [
       "$\\displaystyle 只需要r(x)各项系数全为0$"
      ],
      "text/plain": [
       "<IPython.core.display.Math object>"
      ]
     },
     "metadata": {},
     "output_type": "display_data"
    }
   ],
   "source": [
    "def Q2():\n",
    "    minform(\"Q2\")\n",
    "    x, m, p, q = symbols('x, m, p, q')\n",
    "    f_x = x**3 + p * x + q\n",
    "    g_x = x**2 + m * x - 1\n",
    "    q_x, r_x = div(f_x, g_x)\n",
    "    mprint(r\"\\frac {%s} {%s}:\" % (latex(f_x.as_poly(x)), latex(g_x.as_poly(x))))\n",
    "    mprint(\"quotient: %s\" % latex(q_x.as_poly(x)))\n",
    "    mprint(\"remainder: %s\" % latex(r_x.as_poly(x)))\n",
    "    mprint(\"只需要r(x)各项系数全为0\")\n",
    "Q2()"
   ]
  },
  {
   "cell_type": "code",
   "execution_count": 17,
   "metadata": {},
   "outputs": [
    {
     "data": {
      "text/latex": [
       "$\\displaystyle **********Q3**********$"
      ],
      "text/plain": [
       "<IPython.core.display.Math object>"
      ]
     },
     "metadata": {},
     "output_type": "display_data"
    },
    {
     "data": {
      "text/latex": [
       "$\\displaystyle \\frac {x^{3} - x^{2} - x} {x - 1 + 2 i}:$"
      ],
      "text/plain": [
       "<IPython.core.display.Math object>"
      ]
     },
     "metadata": {},
     "output_type": "display_data"
    },
    {
     "data": {
      "text/latex": [
       "$\\displaystyle quotient: x^{2} - 2 i x - 5 - 2 i$"
      ],
      "text/plain": [
       "<IPython.core.display.Math object>"
      ]
     },
     "metadata": {},
     "output_type": "display_data"
    },
    {
     "data": {
      "text/latex": [
       "$\\displaystyle remainder: -9 + 8 i$"
      ],
      "text/plain": [
       "<IPython.core.display.Math object>"
      ]
     },
     "metadata": {},
     "output_type": "display_data"
    }
   ],
   "source": [
    "def Q3():\n",
    "    minform(\"Q3\")\n",
    "    x = symbols('x')\n",
    "    f_x = x**3 - x**2 - x\n",
    "    g_x = x - 1 + 2 * I\n",
    "    q_x, r_x = div(f_x, g_x, domain='ZZ')\n",
    "    mprint(r\"\\frac {%s} {%s}:\" % (latex(f_x), latex(g_x)))\n",
    "    mprint(\"quotient: %s\" % latex(q_x))\n",
    "    mprint(\"remainder: %s\" % latex(r_x))\n",
    "Q3()"
   ]
  },
  {
   "cell_type": "code",
   "execution_count": 18,
   "metadata": {},
   "outputs": [
    {
     "data": {
      "text/latex": [
       "$\\displaystyle **********Q4-1**********$"
      ],
      "text/plain": [
       "<IPython.core.display.Math object>"
      ]
     },
     "metadata": {},
     "output_type": "display_data"
    },
    {
     "data": {
      "text/latex": [
       "$\\displaystyle f(x) = x^{5}$"
      ],
      "text/plain": [
       "<IPython.core.display.Math object>"
      ]
     },
     "metadata": {},
     "output_type": "display_data"
    },
    {
     "data": {
      "text/latex": [
       "$\\displaystyle f(x)在x=1处的泰勒展开为:$"
      ],
      "text/plain": [
       "<IPython.core.display.Math object>"
      ]
     },
     "metadata": {},
     "output_type": "display_data"
    },
    {
     "data": {
      "text/latex": [
       "$\\displaystyle 5 x + \\left(x - 1\\right)^{5} + 5 \\left(x - 1\\right)^{4} + 10 \\left(x - 1\\right)^{3} + 10 \\left(x - 1\\right)^{2} - 4$"
      ],
      "text/plain": [
       "<IPython.core.display.Math object>"
      ]
     },
     "metadata": {},
     "output_type": "display_data"
    }
   ],
   "source": [
    "def Q4_1():\n",
    "    minform(\"Q4-1\")\n",
    "    x = symbols('x')\n",
    "    f_x = x**5\n",
    "    x0 = 1\n",
    "    f = series(f_x, x=x, x0=x0)\n",
    "    mprint(\"f(x) = %s\" % latex(f_x))\n",
    "    mprint(\"f(x)在x=%s处的泰勒展开为:\" % latex(x0))\n",
    "    mprint(latex(f))\n",
    "Q4_1()"
   ]
  },
  {
   "cell_type": "code",
   "execution_count": 19,
   "metadata": {},
   "outputs": [
    {
     "data": {
      "text/latex": [
       "$\\displaystyle **********Q4-3**********$"
      ],
      "text/plain": [
       "<IPython.core.display.Math object>"
      ]
     },
     "metadata": {},
     "output_type": "display_data"
    },
    {
     "data": {
      "text/latex": [
       "$\\displaystyle f(x) = x^{4} + 2 i x^{3} - x^{2} \\cdot \\left(1 + i\\right) - 3 x + 7 + i$"
      ],
      "text/plain": [
       "<IPython.core.display.Math object>"
      ]
     },
     "metadata": {},
     "output_type": "display_data"
    },
    {
     "data": {
      "text/latex": [
       "$\\displaystyle f(x)在x=- i处的泰勒展开为:$"
      ],
      "text/plain": [
       "<IPython.core.display.Math object>"
      ]
     },
     "metadata": {},
     "output_type": "display_data"
    },
    {
     "data": {
      "text/latex": [
       "$\\displaystyle - 5 x + \\left(x + i\\right)^{4} - 2 i \\left(x + i\\right)^{3} + \\left(-1 - i\\right) \\left(x + i\\right)^{2} + 7$"
      ],
      "text/plain": [
       "<IPython.core.display.Math object>"
      ]
     },
     "metadata": {},
     "output_type": "display_data"
    }
   ],
   "source": [
    "def Q4_3():\n",
    "    minform(\"Q4-3\")\n",
    "    x = symbols('x')\n",
    "    f_x = x**4 + 2 * I * x**3 - (1 + I) * x**2 - 3 * x + 7 + I\n",
    "    f = series(f_x, x=x, x0=-I)\n",
    "    mprint(\"f(x) = %s\" % latex(f_x))\n",
    "    mprint(\"f(x)在x=%s处的泰勒展开为:\" % latex(-I))\n",
    "    mprint(latex(f))\n",
    "Q4_3()"
   ]
  },
  {
   "cell_type": "code",
   "execution_count": 20,
   "metadata": {},
   "outputs": [
    {
     "data": {
      "text/latex": [
       "$\\displaystyle **********Q5**********$"
      ],
      "text/plain": [
       "<IPython.core.display.Math object>"
      ]
     },
     "metadata": {},
     "output_type": "display_data"
    },
    {
     "data": {
      "text/latex": [
       "$\\displaystyle f(x) = x^{4} - 10 x^{2} + 1$"
      ],
      "text/plain": [
       "<IPython.core.display.Math object>"
      ]
     },
     "metadata": {},
     "output_type": "display_data"
    },
    {
     "data": {
      "text/latex": [
       "$\\displaystyle g(x) = x^{4} - 4 \\sqrt{2} x^{3} + 6 x^{2} + 4 \\sqrt{2} x + 1$"
      ],
      "text/plain": [
       "<IPython.core.display.Math object>"
      ]
     },
     "metadata": {},
     "output_type": "display_data"
    },
    {
     "data": {
      "text/latex": [
       "$\\displaystyle (f(x), g(x)) = x^{2} - 2 \\sqrt{2} x - 1$"
      ],
      "text/plain": [
       "<IPython.core.display.Math object>"
      ]
     },
     "metadata": {},
     "output_type": "display_data"
    }
   ],
   "source": [
    "def Q5():\n",
    "    minform(\"Q5\")\n",
    "    x = symbols('x')\n",
    "    f_x = x**4 - 10 * x**2 + 1\n",
    "    g_x = x**4 - 4 * sqrt(2) * x**3 + 6 * x**2 + 4 * sqrt(2) * x + 1\n",
    "    fg = gcd(f_x.as_poly(x), g_x.as_poly(x))\n",
    "    mprint(\"f(x) = %s\" % latex(f_x))\n",
    "    mprint(\"g(x) = %s\" % latex(g_x))\n",
    "    mprint(\"(f(x), g(x)) = %s\" % latex(fg.as_expr()))\n",
    "Q5()"
   ]
  },
  {
   "cell_type": "code",
   "execution_count": 21,
   "metadata": {},
   "outputs": [
    {
     "data": {
      "text/latex": [
       "$\\displaystyle **********Q6**********$"
      ],
      "text/plain": [
       "<IPython.core.display.Math object>"
      ]
     },
     "metadata": {},
     "output_type": "display_data"
    },
    {
     "data": {
      "text/latex": [
       "$\\displaystyle f(x) = x^{4} - x^{3} - 4 x^{2} + 4 x + 1$"
      ],
      "text/plain": [
       "<IPython.core.display.Math object>"
      ]
     },
     "metadata": {},
     "output_type": "display_data"
    },
    {
     "data": {
      "text/latex": [
       "$\\displaystyle g(x) = x^{2} - x - 1$"
      ],
      "text/plain": [
       "<IPython.core.display.Math object>"
      ]
     },
     "metadata": {},
     "output_type": "display_data"
    },
    {
     "data": {
      "text/latex": [
       "$\\displaystyle u(x) f(x) + v(x) g(x) = d(x)$"
      ],
      "text/plain": [
       "<IPython.core.display.Math object>"
      ]
     },
     "metadata": {},
     "output_type": "display_data"
    },
    {
     "data": {
      "text/latex": [
       "$\\displaystyle u(x) = - x - 1$"
      ],
      "text/plain": [
       "<IPython.core.display.Math object>"
      ]
     },
     "metadata": {},
     "output_type": "display_data"
    },
    {
     "data": {
      "text/latex": [
       "$\\displaystyle v(x) = x^{3} + x^{2} - 3 x - 2$"
      ],
      "text/plain": [
       "<IPython.core.display.Math object>"
      ]
     },
     "metadata": {},
     "output_type": "display_data"
    },
    {
     "data": {
      "text/latex": [
       "$\\displaystyle d(x) = 1$"
      ],
      "text/plain": [
       "<IPython.core.display.Math object>"
      ]
     },
     "metadata": {},
     "output_type": "display_data"
    }
   ],
   "source": [
    "def Q6():\n",
    "    minform(\"Q6\")\n",
    "    x = symbols('x')\n",
    "    f_x = x**4 - x**3 - 4 * x**2 + 4 * x + 1\n",
    "    g_x = x**2 - x - 1\n",
    "    (u, v, d) = gcdex(f_x, g_x)\n",
    "    mprint(\"f(x) = %s\" % latex(f_x))\n",
    "    mprint(\"g(x) = %s\" % latex(g_x))\n",
    "    mprint(\"u(x) f(x) + v(x) g(x) = d(x)\")\n",
    "    mprint(\"u(x) = %s\" % latex(u))\n",
    "    mprint(\"v(x) = %s\" % latex(v))\n",
    "    mprint(\"d(x) = %s\" % latex(d))\n",
    "Q6()"
   ]
  },
  {
   "attachments": {},
   "cell_type": "markdown",
   "metadata": {},
   "source": [
    "- Q-8\n",
    "\n",
    "证明: 如果 $d(x) | f(x), d(x) | g(x)$, 且$d(x)$为$f(x), g(x)$的线性组合, 那么$d(x)$为$f(x), g(x)$的最大公因式\n",
    "\n",
    "解:\n",
    "\n",
    "$$d_{max} | u \\cdot f(x) + v \\cdot g(x) = d(x)$$\n",
    "\n",
    "又因为: $d(x)$是公因子\n",
    "\n",
    "由最大公因子的定义: $d_{max} = d(x)$"
   ]
  },
  {
   "attachments": {},
   "cell_type": "markdown",
   "metadata": {},
   "source": [
    "- Q-9\n",
    "\n",
    "证明:$(f(x)h(x), g(x)h(x)) = (f(x), g(x))h(x)$($h(x)$的首项系数为1)\n",
    "\n",
    "解:\n",
    "\n",
    "$$(f,g)h = (u \\cdot f + v \\cdot g)h$$\n",
    "\n",
    "$(f,g)h$为$f(x)h(x), g(x)h(x)$的线性组合, 且首项系数为1\n",
    "\n",
    "$$(f, g)h | f \\cdot h, (f, g)h | g \\cdot h$$\n",
    "\n",
    "由Q-8可得最大公因子\n",
    "\n",
    "考虑首项系数为1, 得证"
   ]
  },
  {
   "attachments": {},
   "cell_type": "markdown",
   "metadata": {},
   "source": [
    "- Q10\n",
    "\n",
    "如果$f(x), g(x)$不全为0, 证明: $(\\frac {f(x)} {(f(x), g(x))} , \\frac {g(x)} {(f(x), g(x))}) = 1$\n",
    "\n",
    "解:\n",
    "\n",
    "由Q-9: \n",
    "\n",
    "$$\n",
    "\\begin{aligned}\n",
    "(f(x), g(x)) &= (\\frac {f(x)} {(f(x), g(x))} \\cdot (f(x), g(x)), \\frac {g(x)} {(f(x), g(x))} \\cdot (f(x), g(x)))  \\\\\n",
    "&= (\\frac {f(x)} {(f(x), g(x))}, \\frac {g(x)} {(f(x), g(x))}) \\cdot (f(x), g(x)) \\\\\n",
    "\\end{aligned} \\\\\n",
    "\\Rightarrow (\\frac {f(x)} {(f(x), g(x))} , \\frac {g(x)} {(f(x), g(x))}) = 1\n",
    "$$"
   ]
  },
  {
   "cell_type": "markdown",
   "metadata": {},
   "source": [
    "> 8, 9, 10 环环相扣, 就像是在不断地进行函数调用一样, 回味无穷"
   ]
  },
  {
   "cell_type": "markdown",
   "metadata": {},
   "source": [
    "- Q-12\n",
    "\n",
    "证明: 如果$(f(x), g(x))=1, (f(x), h(x))=1$, 那么\n",
    "\n",
    "$$(f(x), g(x)h(x))=1$$\n",
    "\n",
    "解:\n",
    "\n",
    "1. 反证法\n",
    "\n",
    "2. 两项相乘, 展开, 即说明公因子"
   ]
  },
  {
   "cell_type": "markdown",
   "metadata": {},
   "source": [
    "- Q-14\n",
    "\n",
    "证明: 如果$(f(x), g(x))=1$, 那么\n",
    "\n",
    "$$(f(x)g(x), f(x)+g(x))=1$$\n",
    "\n",
    "解:\n",
    "\n",
    "1. 反证法\n",
    "2. 利用Q-12\n",
    "\n",
    "    $$\n",
    "    \\begin{cases}\n",
    "    (f(x), f(x) + g(x)) = 1 \\\\\n",
    "    (g(x), f(x) + g(x)) = 1 \\\\\n",
    "    \\end{cases}\n",
    "    $$\n",
    "\n",
    "    利用Q-12 即得\n",
    "\n",
    "> 如果没有Q-12, 我自己能不能看到这样的抽象呢? 我觉得这样创造性的抽象, 是值得训练的"
   ]
  },
  {
   "cell_type": "code",
   "execution_count": 31,
   "metadata": {},
   "outputs": [
    {
     "data": {
      "text/latex": [
       "$\\displaystyle **********Q15**********$"
      ],
      "text/plain": [
       "<IPython.core.display.Math object>"
      ]
     },
     "metadata": {},
     "output_type": "display_data"
    },
    {
     "data": {
      "text/latex": [
       "$\\displaystyle f(x) = x^{3} + 2 x^{2} + 2 x + 1$"
      ],
      "text/plain": [
       "<IPython.core.display.Math object>"
      ]
     },
     "metadata": {},
     "output_type": "display_data"
    },
    {
     "data": {
      "text/latex": [
       "$\\displaystyle g(x) = x^{4} + x^{3} + 2 x^{2} + x + 1$"
      ],
      "text/plain": [
       "<IPython.core.display.Math object>"
      ]
     },
     "metadata": {},
     "output_type": "display_data"
    },
    {
     "data": {
      "text/latex": [
       "$\\displaystyle (f(x), g(x)) = x^{2} + x + 1$"
      ],
      "text/plain": [
       "<IPython.core.display.Math object>"
      ]
     },
     "metadata": {},
     "output_type": "display_data"
    },
    {
     "data": {
      "text/latex": [
       "$\\displaystyle 公因子即为最大公因式的所有根$"
      ],
      "text/plain": [
       "<IPython.core.display.Math object>"
      ]
     },
     "metadata": {},
     "output_type": "display_data"
    },
    {
     "data": {
      "text/latex": [
       "$\\displaystyle x^{2} + x + 1 = 0$"
      ],
      "text/plain": [
       "<IPython.core.display.Math object>"
      ]
     },
     "metadata": {},
     "output_type": "display_data"
    },
    {
     "data": {
      "text/latex": [
       "$\\displaystyle 根为: \\left[ - \\frac{1}{2} - \\frac{\\sqrt{3} i}{2}, \\  - \\frac{1}{2} + \\frac{\\sqrt{3} i}{2}\\right]$"
      ],
      "text/plain": [
       "<IPython.core.display.Math object>"
      ]
     },
     "metadata": {},
     "output_type": "display_data"
    }
   ],
   "source": [
    "def Q15():\n",
    "    minform(\"Q15\")\n",
    "    x = symbols('x')\n",
    "    f_x = x**3 + 2 * x**2 + 2 * x + 1\n",
    "    g_x = x**4 + x**3 + 2 * x**2 + x + 1\n",
    "    mprint(\"f(x) = %s\" % latex(f_x))\n",
    "    mprint(\"g(x) = %s\" % latex(g_x))\n",
    "    d = gcd(f_x, g_x)\n",
    "    mprint(\"(f(x), g(x)) = %s\" % latex(d))\n",
    "    mprint(\"公因子即为最大公因式的所有根\")\n",
    "    root_d = [rootof(d, i) for i in range(2)]\n",
    "    mprint(\"{} = 0\".format(latex(d)))\n",
    "    mprint(\"根为: %s\" % latex(root_d))\n",
    "\n",
    "Q15()"
   ]
  },
  {
   "cell_type": "code",
   "execution_count": 38,
   "metadata": {},
   "outputs": [
    {
     "data": {
      "text/latex": [
       "$\\displaystyle **********Q16**********$"
      ],
      "text/plain": [
       "<IPython.core.display.Math object>"
      ]
     },
     "metadata": {},
     "output_type": "display_data"
    },
    {
     "data": {
      "text/latex": [
       "$\\displaystyle f(x) = x^{5} - 5 x^{4} + 7 x^{3} - 2 x^{2} + 4 x - 8$"
      ],
      "text/plain": [
       "<IPython.core.display.Math object>"
      ]
     },
     "metadata": {},
     "output_type": "display_data"
    },
    {
     "data": {
      "text/latex": [
       "$\\displaystyle f'(x) = 5 x^{4} - 20 x^{3} + 21 x^{2} - 4 x + 4$"
      ],
      "text/plain": [
       "<IPython.core.display.Math object>"
      ]
     },
     "metadata": {},
     "output_type": "display_data"
    },
    {
     "data": {
      "text/latex": [
       "$\\displaystyle (f(x), f'(x)) = \\left(x - 2\\right)^{2}$"
      ],
      "text/plain": [
       "<IPython.core.display.Math object>"
      ]
     },
     "metadata": {},
     "output_type": "display_data"
    },
    {
     "data": {
      "text/latex": [
       "$\\displaystyle 说明有个3重因子(x-2)^3$"
      ],
      "text/plain": [
       "<IPython.core.display.Math object>"
      ]
     },
     "metadata": {},
     "output_type": "display_data"
    }
   ],
   "source": [
    "def Q16():\n",
    "    minform(\"Q16\")\n",
    "    x = symbols('x')\n",
    "    f = x**5 - 5 * x **4 + 7 * x**3 - 2 * x**2 + 4 * x - 8\n",
    "    f_p = diff(f, x)\n",
    "    mprint(\"f(x) = %s\" % latex(f))\n",
    "    mprint(\"f'(x) = %s\" % latex(f_p))\n",
    "    d = gcd(f, f_p)\n",
    "    mprint(\"(f(x), f'(x)) = %s\" % latex(factor(d)))\n",
    "    mprint(\"说明有个3重因子(x-2)^3\")\n",
    "Q16()"
   ]
  },
  {
   "cell_type": "code",
   "execution_count": 43,
   "metadata": {},
   "outputs": [
    {
     "data": {
      "text/latex": [
       "$\\displaystyle **********Q17**********$"
      ],
      "text/plain": [
       "<IPython.core.display.Math object>"
      ]
     },
     "metadata": {},
     "output_type": "display_data"
    },
    {
     "data": {
      "text/latex": [
       "$\\displaystyle f(x) = \\operatorname{Poly}{\\left( x^{3} - 3 x^{2} + t x - 1, x, domain=\\mathbb{Z}\\left[t\\right] \\right)}$"
      ],
      "text/plain": [
       "<IPython.core.display.Math object>"
      ]
     },
     "metadata": {},
     "output_type": "display_data"
    },
    {
     "data": {
      "text/latex": [
       "$\\displaystyle 考虑判别式$"
      ],
      "text/plain": [
       "<IPython.core.display.Math object>"
      ]
     },
     "metadata": {},
     "output_type": "display_data"
    },
    {
     "data": {
      "text/latex": [
       "$\\displaystyle D = - 4 t^{3} + 9 t^{2} + 54 t - 135$"
      ],
      "text/plain": [
       "<IPython.core.display.Math object>"
      ]
     },
     "metadata": {},
     "output_type": "display_data"
    },
    {
     "data": {
      "text/latex": [
       "$\\displaystyle D = 0$"
      ],
      "text/plain": [
       "<IPython.core.display.Math object>"
      ]
     },
     "metadata": {},
     "output_type": "display_data"
    },
    {
     "data": {
      "text/latex": [
       "$\\displaystyle 根为: \\left[ - \\frac{15}{4}, \\  3\\right]$"
      ],
      "text/plain": [
       "<IPython.core.display.Math object>"
      ]
     },
     "metadata": {},
     "output_type": "display_data"
    }
   ],
   "source": [
    "def Q17():\n",
    "    \"\"\"\n",
    "    - https://en.wikipedia.org/wiki/Discriminant\n",
    "    - https://docs.sympy.org/latest/modules/polys/reference.html\n",
    "    \"\"\"\n",
    "    minform(\"Q17\")\n",
    "    x, t = symbols('x t')\n",
    "    f = x**3 - 3 * x**2 + t * x - 1\n",
    "    D = discriminant(f.as_poly(x))\n",
    "    mprint(\"f(x) = %s\" % latex(f.as_poly(x)))\n",
    "    mprint(\"考虑判别式\")\n",
    "    mprint(\"D = %s\" % latex(D))\n",
    "    root_d = solve(D)\n",
    "    mprint(\"D = 0\")\n",
    "    mprint(\"根为: %s\" % latex(root_d))\n",
    "\n",
    "Q17()"
   ]
  },
  {
   "cell_type": "code",
   "execution_count": 49,
   "metadata": {},
   "outputs": [
    {
     "data": {
      "text/latex": [
       "$\\displaystyle **********Q19**********$"
      ],
      "text/plain": [
       "<IPython.core.display.Math object>"
      ]
     },
     "metadata": {},
     "output_type": "display_data"
    },
    {
     "data": {
      "text/latex": [
       "$\\displaystyle (x-1)^2 | A x^{4} + B x^{2} + 1$"
      ],
      "text/plain": [
       "<IPython.core.display.Math object>"
      ]
     },
     "metadata": {},
     "output_type": "display_data"
    },
    {
     "data": {
      "text/latex": [
       "$\\displaystyle 即考虑x=1是f(x), f'(x)根$"
      ],
      "text/plain": [
       "<IPython.core.display.Math object>"
      ]
     },
     "metadata": {},
     "output_type": "display_data"
    },
    {
     "data": {
      "text/latex": [
       "$\\displaystyle f(x) = \\operatorname{Poly}{\\left( A x^{4} + B x^{2} + 1, x, domain=\\mathbb{Z}\\left[A, B\\right] \\right)}$"
      ],
      "text/plain": [
       "<IPython.core.display.Math object>"
      ]
     },
     "metadata": {},
     "output_type": "display_data"
    },
    {
     "data": {
      "text/latex": [
       "$\\displaystyle f'(x) = \\operatorname{Poly}{\\left( 4 A x^{3} + 2 B x, x, domain=\\mathbb{Z}\\left[A, B\\right] \\right)}$"
      ],
      "text/plain": [
       "<IPython.core.display.Math object>"
      ]
     },
     "metadata": {},
     "output_type": "display_data"
    },
    {
     "data": {
      "text/latex": [
       "$\\displaystyle f(1) = A + B + 1.0 = 0$"
      ],
      "text/plain": [
       "<IPython.core.display.Math object>"
      ]
     },
     "metadata": {},
     "output_type": "display_data"
    },
    {
     "data": {
      "text/latex": [
       "$\\displaystyle f'(1) = 4.0 A + 2.0 B = 0$"
      ],
      "text/plain": [
       "<IPython.core.display.Math object>"
      ]
     },
     "metadata": {},
     "output_type": "display_data"
    },
    {
     "data": {
      "text/latex": [
       "$\\displaystyle 解为: \\left\\{ A : 1.0, \\  B : -2.0\\right\\}$"
      ],
      "text/plain": [
       "<IPython.core.display.Math object>"
      ]
     },
     "metadata": {},
     "output_type": "display_data"
    }
   ],
   "source": [
    "def Q19():\n",
    "    minform(\"Q19\")\n",
    "    x, A, B= symbols('x A B')\n",
    "    f = A * x**4 + B * x**2  + 1\n",
    "    mprint(\"(x-1)^2 | {}\".format(latex(f)))\n",
    "    mprint(\"即考虑x=1是f(x), f'(x)根\")\n",
    "    f_p = diff(f, x)\n",
    "    mprint(\"f(x) = {}\".format(latex(f.as_poly(x))))\n",
    "    mprint(\"f'(x) = {}\".format(latex(f_p.as_poly(x))))\n",
    "    f_1 = f.evalf(subs={x: 1})\n",
    "    f_p_1 = f_p.evalf(subs={x: 1})\n",
    "    mprint(\"f(1) = {} = 0\".format(latex(f_1)))\n",
    "    mprint(\"f'(1) = {} = 0\".format(latex(f_p_1)))\n",
    "    res = solve([f_1, f_p_1], [A, B])\n",
    "    mprint(\"解为: {}\".format(latex(res)))\n",
    "Q19()"
   ]
  }
 ],
 "metadata": {
  "kernelspec": {
   "display_name": "Python 3.9.15 ('math-Linear-Algebra')",
   "language": "python",
   "name": "python3"
  },
  "language_info": {
   "codemirror_mode": {
    "name": "ipython",
    "version": 3
   },
   "file_extension": ".py",
   "mimetype": "text/x-python",
   "name": "python",
   "nbconvert_exporter": "python",
   "pygments_lexer": "ipython3",
   "version": "3.9.15"
  },
  "orig_nbformat": 4,
  "vscode": {
   "interpreter": {
    "hash": "a93d420555b36c80a99a33febb584e8a0fce40b33a882a32043b7411cc09373e"
   }
  }
 },
 "nbformat": 4,
 "nbformat_minor": 2
}
